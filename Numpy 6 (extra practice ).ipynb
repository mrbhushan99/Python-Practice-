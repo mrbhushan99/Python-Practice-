{
 "cells": [
  {
   "cell_type": "code",
   "execution_count": 3,
   "metadata": {},
   "outputs": [
    {
     "name": "stdout",
     "output_type": "stream",
     "text": [
      "\n",
      "Q16 Identity Matrix:\n",
      " [[1. 0. 0. 0. 0.]\n",
      " [0. 1. 0. 0. 0.]\n",
      " [0. 0. 1. 0. 0.]\n",
      " [0. 0. 0. 1. 0.]\n",
      " [0. 0. 0. 0. 1.]]\n"
     ]
    }
   ],
   "source": [
    "import numpy as np \n",
    "# 16. Identity matrix\n",
    "identity = np.eye(5)\n",
    "print(\"\\nQ16 Identity Matrix:\\n\", identity)"
   ]
  },
  {
   "cell_type": "code",
   "execution_count": 4,
   "metadata": {},
   "outputs": [
    {
     "name": "stdout",
     "output_type": "stream",
     "text": [
      "\n",
      "Q17 Diagonal Matrix:\n",
      " [[10  0  0  0  0]\n",
      " [ 0 20  0  0  0]\n",
      " [ 0  0 30  0  0]\n",
      " [ 0  0  0 40  0]\n",
      " [ 0  0  0  0 50]]\n"
     ]
    }
   ],
   "source": [
    "# 17. Diagonal matrix\n",
    "diag_matrix = np.diag([10, 20, 30, 40, 50])\n",
    "print(\"\\nQ17 Diagonal Matrix:\\n\", diag_matrix)"
   ]
  },
  {
   "cell_type": "code",
   "execution_count": null,
   "metadata": {},
   "outputs": [
    {
     "name": "stdout",
     "output_type": "stream",
     "text": [
      "\n",
      "Q18 Reverse: [10  9  8  7  6  5  4  3  2  1]\n"
     ]
    }
   ],
   "source": [
    "# 18. Reverse array\n",
    "arr8 = np.arange(1, 11)\n",
    "print(\"\\nQ18 Reverse:\", arr8[::-1])\n"
   ]
  },
  {
   "cell_type": "code",
   "execution_count": null,
   "metadata": {},
   "outputs": [
    {
     "name": "stdout",
     "output_type": "stream",
     "text": [
      "Q19 Replace even numbers with -1: [ 1 -1  3 -1  5 -1  7 -1  9 -1]\n"
     ]
    }
   ],
   "source": [
    "# 19. Replace even numbers with -1\n",
    "arr9 = np.arange(1, 11)\n",
    "arr9[arr9 % 2 == 0] = -1\n",
    "print(\"Q19 Replace even numbers with -1:\", arr9)\n"
   ]
  },
  {
   "cell_type": "code",
   "execution_count": null,
   "metadata": {},
   "outputs": [
    {
     "name": "stdout",
     "output_type": "stream",
     "text": [
      "\n",
      "Q20 Sum of diagonal: 15\n"
     ]
    }
   ],
   "source": [
    "# 20. Sum of diagonal elements\n",
    "mat3 = np.array([[1, 2, 3],\n",
    "                 [4, 5, 6],\n",
    "                 [7, 8, 9]])\n",
    "print(\"\\nQ20 Sum of diagonal:\", np.trace(mat3))"
   ]
  },
  {
   "cell_type": "code",
   "execution_count": null,
   "metadata": {},
   "outputs": [],
   "source": []
  }
 ],
 "metadata": {
  "kernelspec": {
   "display_name": "Python 3",
   "language": "python",
   "name": "python3"
  },
  "language_info": {
   "codemirror_mode": {
    "name": "ipython",
    "version": 3
   },
   "file_extension": ".py",
   "mimetype": "text/x-python",
   "name": "python",
   "nbconvert_exporter": "python",
   "pygments_lexer": "ipython3",
   "version": "3.13.2"
  }
 },
 "nbformat": 4,
 "nbformat_minor": 2
}
