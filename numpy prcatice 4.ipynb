{
 "cells": [
  {
   "cell_type": "code",
   "execution_count": 3,
   "metadata": {},
   "outputs": [],
   "source": [
    "import numpy as np\n",
    "# Reshaping & Stacking"
   ]
  },
  {
   "cell_type": "code",
   "execution_count": 4,
   "metadata": {},
   "outputs": [
    {
     "name": "stdout",
     "output_type": "stream",
     "text": [
      "\n",
      "Q9 Reshaped 3x4:\n",
      " [[ 1  2  3  4]\n",
      " [ 5  6  7  8]\n",
      " [ 9 10 11 12]]\n"
     ]
    }
   ],
   "source": [
    "# 9. Reshape array\n",
    "arr5 = np.arange(1, 13).reshape(3, 4)\n",
    "print(\"\\nQ9 Reshaped 3x4:\\n\", arr5)\n",
    "\n"
   ]
  },
  {
   "cell_type": "code",
   "execution_count": 5,
   "metadata": {},
   "outputs": [
    {
     "name": "stdout",
     "output_type": "stream",
     "text": [
      "\n",
      "Q10a Vertical Stack:\n",
      " [[1 2]\n",
      " [3 4]\n",
      " [5 6]\n",
      " [7 8]]\n",
      "Q10b Horizontal Stack:\n",
      " [[1 2 5 6]\n",
      " [3 4 7 8]]\n"
     ]
    }
   ],
   "source": [
    "# 10. Stack arrays\n",
    "x = np.array([[1, 2], [3, 4]])\n",
    "y = np.array([[5, 6], [7, 8]])\n",
    "print(\"\\nQ10a Vertical Stack:\\n\", np.vstack((x, y)))\n",
    "print(\"Q10b Horizontal Stack:\\n\", np.hstack((x, y)))\n"
   ]
  },
  {
   "cell_type": "code",
   "execution_count": 6,
   "metadata": {},
   "outputs": [],
   "source": [
    "# Random & Statistics"
   ]
  },
  {
   "cell_type": "code",
   "execution_count": 7,
   "metadata": {},
   "outputs": [
    {
     "name": "stdout",
     "output_type": "stream",
     "text": [
      "\n",
      "Q11 Data: [ 1 19 15 25  3 22 32 15 31  7 24 15 13  7 31 21  4 17 42 14]\n",
      "Mean: 17.9\n",
      "Median: 16.0\n",
      "Standard Deviation: 10.587256490706174\n",
      "Max: 42\n",
      "Min: 1\n"
     ]
    }
   ],
   "source": [
    "# 11. Statistics\n",
    "data = np.random.randint(1, 51, size=20)\n",
    "print(\"\\nQ11 Data:\", data)\n",
    "print(\"Mean:\", np.mean(data))\n",
    "print(\"Median:\", np.median(data))\n",
    "print(\"Standard Deviation:\", np.std(data))\n",
    "print(\"Max:\", np.max(data))\n",
    "print(\"Min:\", np.min(data))\n"
   ]
  },
  {
   "cell_type": "code",
   "execution_count": 8,
   "metadata": {},
   "outputs": [
    {
     "name": "stdout",
     "output_type": "stream",
     "text": [
      "\n",
      "Q12 Matrix:\n",
      " [[ 1  5  1]\n",
      " [ 2  9  2]\n",
      " [ 2 10  1]]\n",
      "Sum of each row: [ 7 13 13]\n"
     ]
    }
   ],
   "source": [
    "\n",
    "# 12. Sum of each row\n",
    "rand_mat = np.random.randint(1, 11, size=(3, 3))\n",
    "print(\"\\nQ12 Matrix:\\n\", rand_mat)\n",
    "print(\"Sum of each row:\", np.sum(rand_mat, axis=1))\n"
   ]
  },
  {
   "cell_type": "code",
   "execution_count": 9,
   "metadata": {},
   "outputs": [
    {
     "name": "stdout",
     "output_type": "stream",
     "text": [
      "\n",
      "Q12 Matrix:\n",
      " [[ 2 10  7]\n",
      " [ 8  2  7]\n",
      " [ 4  1  3]]\n",
      "Sum of each row: [19 17  8]\n"
     ]
    }
   ],
   "source": [
    "\n",
    "# 12. Sum of each row\n",
    "rand_mat = np.random.randint(1, 11, size=(3, 3))\n",
    "print(\"\\nQ12 Matrix:\\n\", rand_mat)\n",
    "print(\"Sum of each row:\", np.sum(rand_mat, axis=1))\n"
   ]
  },
  {
   "cell_type": "code",
   "execution_count": null,
   "metadata": {},
   "outputs": [],
   "source": []
  }
 ],
 "metadata": {
  "kernelspec": {
   "display_name": "Python 3",
   "language": "python",
   "name": "python3"
  },
  "language_info": {
   "codemirror_mode": {
    "name": "ipython",
    "version": 3
   },
   "file_extension": ".py",
   "mimetype": "text/x-python",
   "name": "python",
   "nbconvert_exporter": "python",
   "pygments_lexer": "ipython3",
   "version": "3.13.2"
  }
 },
 "nbformat": 4,
 "nbformat_minor": 2
}
