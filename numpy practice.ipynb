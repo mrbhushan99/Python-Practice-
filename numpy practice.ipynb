{
 "cells": [
  {
   "cell_type": "code",
   "execution_count": 2,
   "metadata": {},
   "outputs": [
    {
     "name": "stdout",
     "output_type": "stream",
     "text": [
      "1D Array: [1 2 3 4 5]\n"
     ]
    }
   ],
   "source": [
    "import numpy as np\n",
    "\n",
    "# 1D array\n",
    "arr1 = np.array([1, 2, 3, 4, 5])\n",
    "print(\"1D Array:\", arr1)\n",
    "\n"
   ]
  },
  {
   "cell_type": "code",
   "execution_count": 3,
   "metadata": {},
   "outputs": [
    {
     "name": "stdout",
     "output_type": "stream",
     "text": [
      "\n",
      "2D Array:\n",
      " [[1 2 3]\n",
      " [4 5 6]]\n"
     ]
    }
   ],
   "source": [
    "\n",
    "# 2D array\n",
    "arr2 = np.array([[1, 2, 3], [4, 5, 6]])\n",
    "print(\"\\n2D Array:\\n\", arr2)\n",
    "\n"
   ]
  },
  {
   "cell_type": "code",
   "execution_count": 4,
   "metadata": {},
   "outputs": [
    {
     "name": "stdout",
     "output_type": "stream",
     "text": [
      "\n",
      "Zeros:\n",
      " [[0. 0. 0.]\n",
      " [0. 0. 0.]\n",
      " [0. 0. 0.]]\n",
      "\n",
      "Ones:\n",
      " [[1. 1. 1. 1.]\n",
      " [1. 1. 1. 1.]]\n",
      "\n",
      "Range Array: [ 0  2  4  6  8 10 12 14 16 18]\n"
     ]
    }
   ],
   "source": [
    "# Zeros, Ones, and Range\n",
    "zeros_arr = np.zeros((3, 3))\n",
    "ones_arr = np.ones((2, 4))\n",
    "range_arr = np.arange(0, 20, 2)\n",
    "\n",
    "print(\"\\nZeros:\\n\", zeros_arr)\n",
    "print(\"\\nOnes:\\n\", ones_arr)\n",
    "print(\"\\nRange Array:\", range_arr)"
   ]
  },
  {
   "cell_type": "code",
   "execution_count": 6,
   "metadata": {},
   "outputs": [
    {
     "name": "stdout",
     "output_type": "stream",
     "text": [
      "Original Array: [10 11 12 13 14 15 16 17 18 19]\n",
      "First 5 elements: [10 11 12 13 14]\n",
      "Last 3 elements: [17 18 19]\n",
      "Elements from index 2 to 7: [12 13 14 15 16 17]\n"
     ]
    }
   ],
   "source": [
    "# Array Indexing & Slicing\n",
    "\n",
    "arr = np.arange(10, 20)\n",
    "print(\"Original Array:\", arr)\n",
    "\n",
    "# Slicing\n",
    "print(\"First 5 elements:\", arr[:5])\n",
    "print(\"Last 3 elements:\", arr[-3:])\n",
    "print(\"Elements from index 2 to 7:\", arr[2:8])\n",
    "\n"
   ]
  },
  {
   "cell_type": "code",
   "execution_count": 7,
   "metadata": {},
   "outputs": [
    {
     "name": "stdout",
     "output_type": "stream",
     "text": [
      "\n",
      "2D Matrix:\n",
      " [[10 20 30]\n",
      " [40 50 60]\n",
      " [70 80 90]]\n",
      "Element at [1,2]: 60\n",
      "First 2 rows:\n",
      " [[10 20 30]\n",
      " [40 50 60]]\n",
      "First 2 columns:\n",
      " [[10 20]\n",
      " [40 50]\n",
      " [70 80]]\n"
     ]
    }
   ],
   "source": [
    "# 2D Slicing\n",
    "mat = np.array([[10, 20, 30], [40, 50, 60], [70, 80, 90]])\n",
    "print(\"\\n2D Matrix:\\n\", mat)\n",
    "print(\"Element at [1,2]:\", mat[1, 2])\n",
    "print(\"First 2 rows:\\n\", mat[:2, :])\n",
    "print(\"First 2 columns:\\n\", mat[:, :2])\n",
    "\n"
   ]
  },
  {
   "cell_type": "code",
   "execution_count": 9,
   "metadata": {},
   "outputs": [
    {
     "name": "stdout",
     "output_type": "stream",
     "text": [
      "Addition: [ 6  8 10 12]\n",
      "Subtraction: [-4 -4 -4 -4]\n",
      "Multiplication: [ 5 12 21 32]\n",
      "Division: [0.2        0.33333333 0.42857143 0.5       ]\n"
     ]
    }
   ],
   "source": [
    "#Array Operations\n",
    "a = np.array([1, 2, 3, 4])\n",
    "b = np.array([5, 6, 7, 8])\n",
    "\n",
    "# Arithmetic\n",
    "print(\"Addition:\", a + b)\n",
    "print(\"Subtraction:\", a - b)\n",
    "print(\"Multiplication:\", a * b)\n",
    "print(\"Division:\", a / b)\n"
   ]
  },
  {
   "cell_type": "code",
   "execution_count": 10,
   "metadata": {},
   "outputs": [
    {
     "name": "stdout",
     "output_type": "stream",
     "text": [
      "Multiply by 10: [10 20 30 40]\n"
     ]
    }
   ],
   "source": [
    "\n",
    "# Scalar operations\n",
    "print(\"Multiply by 10:\", a * 10)\n"
   ]
  },
  {
   "cell_type": "code",
   "execution_count": 11,
   "metadata": {},
   "outputs": [
    {
     "name": "stdout",
     "output_type": "stream",
     "text": [
      "Square root: [1. 2. 3. 4. 5.]\n",
      "Exponential: [2.71828183e+00 5.45981500e+01 8.10308393e+03 8.88611052e+06\n",
      " 7.20048993e+10]\n",
      "Logarithm: [0.         1.38629436 2.19722458 2.77258872 3.21887582]\n",
      "Sine values: [ 0.84147098 -0.7568025   0.41211849 -0.28790332 -0.13235175]\n"
     ]
    }
   ],
   "source": [
    "#  Mathematical Functions\n",
    "arr = np.array([1, 4, 9, 16, 25])\n",
    "\n",
    "print(\"Square root:\", np.sqrt(arr))\n",
    "print(\"Exponential:\", np.exp(arr))\n",
    "print(\"Logarithm:\", np.log(arr))\n",
    "print(\"Sine values:\", np.sin(arr))\n"
   ]
  },
  {
   "cell_type": "code",
   "execution_count": null,
   "metadata": {},
   "outputs": [],
   "source": []
  }
 ],
 "metadata": {
  "kernelspec": {
   "display_name": "Python 3",
   "language": "python",
   "name": "python3"
  },
  "language_info": {
   "codemirror_mode": {
    "name": "ipython",
    "version": 3
   },
   "file_extension": ".py",
   "mimetype": "text/x-python",
   "name": "python",
   "nbconvert_exporter": "python",
   "pygments_lexer": "ipython3",
   "version": "3.13.2"
  }
 },
 "nbformat": 4,
 "nbformat_minor": 2
}
