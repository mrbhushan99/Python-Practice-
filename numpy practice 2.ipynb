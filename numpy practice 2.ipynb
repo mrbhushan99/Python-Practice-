{
 "cells": [
  {
   "cell_type": "code",
   "execution_count": 3,
   "metadata": {},
   "outputs": [
    {
     "name": "stdout",
     "output_type": "stream",
     "text": [
      "Original: [ 1  2  3  4  5  6  7  8  9 10 11 12]\n"
     ]
    }
   ],
   "source": [
    "import numpy as np\n",
    "#Reshaping & Flattening\n",
    "arr = np.arange(1, 13)\n",
    "print(\"Original:\", arr)\n"
   ]
  },
  {
   "cell_type": "code",
   "execution_count": 5,
   "metadata": {},
   "outputs": [
    {
     "name": "stdout",
     "output_type": "stream",
     "text": [
      "\n",
      "Reshaped 3x4:\n",
      " [[ 1  2  3  4]\n",
      " [ 5  6  7  8]\n",
      " [ 9 10 11 12]]\n"
     ]
    }
   ],
   "source": [
    "\n",
    "reshaped = arr.reshape(3, 4)\n",
    "print(\"\\nReshaped 3x4:\\n\", reshaped)\n",
    "\n",
    "\n"
   ]
  },
  {
   "cell_type": "code",
   "execution_count": 4,
   "metadata": {},
   "outputs": [
    {
     "name": "stdout",
     "output_type": "stream",
     "text": [
      "\n",
      "Flattened: [ 1  2  3  4  5  6  7  8  9 10 11 12]\n"
     ]
    }
   ],
   "source": [
    "flattened = reshaped.flatten()\n",
    "print(\"\\nFlattened:\", flattened)"
   ]
  },
  {
   "cell_type": "code",
   "execution_count": 6,
   "metadata": {},
   "outputs": [
    {
     "name": "stdout",
     "output_type": "stream",
     "text": [
      "Vertical Stack:\n",
      " [[1 2]\n",
      " [3 4]\n",
      " [5 6]\n",
      " [7 8]]\n",
      "Horizontal Stack:\n",
      " [[1 2 5 6]\n",
      " [3 4 7 8]]\n"
     ]
    }
   ],
   "source": [
    "#  Stacking & Splitting\n",
    "a = np.array([[1, 2], [3, 4]])\n",
    "b = np.array([[5, 6], [7, 8]])\n",
    "\n",
    "# Stacking\n",
    "print(\"Vertical Stack:\\n\", np.vstack((a, b)))\n",
    "print(\"Horizontal Stack:\\n\", np.hstack((a, b)))\n",
    "\n",
    "\n"
   ]
  },
  {
   "cell_type": "code",
   "execution_count": 7,
   "metadata": {},
   "outputs": [
    {
     "name": "stdout",
     "output_type": "stream",
     "text": [
      "Split into 3 parts: [array([1, 2, 3]), array([4, 5, 6]), array([7, 8, 9])]\n"
     ]
    }
   ],
   "source": [
    "# Splitting\n",
    "arr = np.arange(1, 10)\n",
    "print(\"Split into 3 parts:\", np.split(arr, 3))"
   ]
  },
  {
   "cell_type": "code",
   "execution_count": 1,
   "metadata": {},
   "outputs": [],
   "source": [
    "# Random numbers "
   ]
  },
  {
   "cell_type": "code",
   "execution_count": 4,
   "metadata": {},
   "outputs": [
    {
     "name": "stdout",
     "output_type": "stream",
     "text": [
      "Random Float [0,1): [0.04046686 0.93988313 0.21521358 0.93911847 0.32125983]\n",
      "Random Integers: [[16 17 25]\n",
      " [46 14 24]\n",
      " [21 18 20]]\n",
      "Normal Distribution:\n",
      " [[ 0.91421296  0.17058921 -1.80075122 -1.1217139 ]\n",
      " [-0.22540077 -0.51169021 -1.54927101  0.10574016]\n",
      " [ 0.94545173  0.47294431  1.03512483  1.23863801]\n",
      " [-1.2519669  -0.46095575 -0.80568859 -0.44225414]]\n"
     ]
    }
   ],
   "source": [
    "print(\"Random Float [0,1):\", np.random.rand(5))\n",
    "print(\"Random Integers:\", np.random.randint(10, 50, size=(3, 3)))\n",
    "\n",
    "# Random with normal distribution\n",
    "print(\"Normal Distribution:\\n\", np.random.randn(4, 4))\n"
   ]
  },
  {
   "cell_type": "code",
   "execution_count": 5,
   "metadata": {},
   "outputs": [],
   "source": [
    "# stastics with numpy"
   ]
  },
  {
   "cell_type": "code",
   "execution_count": 6,
   "metadata": {},
   "outputs": [
    {
     "name": "stdout",
     "output_type": "stream",
     "text": [
      "Data: [31 35 32 57  4 95 97 66  3 61]\n",
      "Mean: 48.1\n",
      "Median: 46.0\n",
      "Standard Deviation: 31.39888533053363\n",
      "Sum: 481\n",
      "Max: 97\n",
      "Min: 3\n"
     ]
    }
   ],
   "source": [
    "data = np.random.randint(1, 100, size=10)\n",
    "print(\"Data:\", data)\n",
    "\n",
    "print(\"Mean:\", np.mean(data))\n",
    "print(\"Median:\", np.median(data))\n",
    "print(\"Standard Deviation:\", np.std(data))\n",
    "print(\"Sum:\", np.sum(data))\n",
    "print(\"Max:\", np.max(data))\n",
    "print(\"Min:\", np.min(data))\n"
   ]
  },
  {
   "cell_type": "code",
   "execution_count": 7,
   "metadata": {},
   "outputs": [],
   "source": [
    "# BOOLEAN INDEXING "
   ]
  },
  {
   "cell_type": "code",
   "execution_count": 8,
   "metadata": {},
   "outputs": [
    {
     "name": "stdout",
     "output_type": "stream",
     "text": [
      "Original: [ 1  2  3  4  5  6  7  8  9 10]\n",
      "Greater than 5: [ 6  7  8  9 10]\n",
      "Even numbers: [ 2  4  6  8 10]\n"
     ]
    }
   ],
   "source": [
    "arr = np.arange(1, 11)\n",
    "print(\"Original:\", arr)\n",
    "\n",
    "print(\"Greater than 5:\", arr[arr > 5])\n",
    "print(\"Even numbers:\", arr[arr % 2 == 0])\n"
   ]
  },
  {
   "cell_type": "code",
   "execution_count": 9,
   "metadata": {},
   "outputs": [],
   "source": [
    "# Broadcasting Example"
   ]
  },
  {
   "cell_type": "code",
   "execution_count": null,
   "metadata": {},
   "outputs": [
    {
     "name": "stdout",
     "output_type": "stream",
     "text": [
      "Original Matrix:\n",
      " [[1 2 3]\n",
      " [4 5 6]]\n",
      "Add 10:\n",
      " [[11 12 13]\n",
      " [14 15 16]]\n",
      "Add row vector:\n",
      " [[11 22 33]\n",
      " [14 25 36]]\n"
     ]
    }
   ],
   "source": [
    "mat = np.array([[1, 2, 3], [4, 5, 6]])\n",
    "print(\"Original Matrix:\\n\", mat)\n",
    "\n",
    "# Adding a scalar\n",
    "print(\"Add 10:\\n\", mat + 10)\n",
    "\n"
   ]
  },
  {
   "cell_type": "code",
   "execution_count": 11,
   "metadata": {},
   "outputs": [
    {
     "name": "stdout",
     "output_type": "stream",
     "text": [
      "Add row vector:\n",
      " [[11 22 33]\n",
      " [14 25 36]]\n"
     ]
    }
   ],
   "source": [
    "# Broadcasting a row vector\n",
    "row_vector = np.array([10, 20, 30])\n",
    "print(\"Add row vector:\\n\", mat + row_vector)\n"
   ]
  },
  {
   "cell_type": "code",
   "execution_count": null,
   "metadata": {},
   "outputs": [],
   "source": []
  }
 ],
 "metadata": {
  "kernelspec": {
   "display_name": "Python 3",
   "language": "python",
   "name": "python3"
  },
  "language_info": {
   "codemirror_mode": {
    "name": "ipython",
    "version": 3
   },
   "file_extension": ".py",
   "mimetype": "text/x-python",
   "name": "python",
   "nbconvert_exporter": "python",
   "pygments_lexer": "ipython3",
   "version": "3.13.2"
  }
 },
 "nbformat": 4,
 "nbformat_minor": 2
}
