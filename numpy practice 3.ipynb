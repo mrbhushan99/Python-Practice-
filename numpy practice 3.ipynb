{
 "cells": [
  {
   "cell_type": "code",
   "execution_count": 1,
   "metadata": {},
   "outputs": [
    {
     "name": "stdout",
     "output_type": "stream",
     "text": [
      "Q1: [ 1  2  3  4  5  6  7  8  9 10 11 12 13 14 15]\n"
     ]
    }
   ],
   "source": [
    "import numpy as np\n",
    "\n",
    "# 1. Create a NumPy array containing numbers from 1 to 15\n",
    "arr1 = np.arange(1, 16)\n",
    "print(\"Q1:\", arr1)\n",
    "\n"
   ]
  },
  {
   "cell_type": "code",
   "execution_count": 2,
   "metadata": {},
   "outputs": [
    {
     "name": "stdout",
     "output_type": "stream",
     "text": [
      "\n",
      "Q2:\n",
      " [[0. 0. 0. 0. 0.]\n",
      " [0. 0. 0. 0. 0.]\n",
      " [0. 0. 0. 0. 0.]\n",
      " [0. 0. 0. 0. 0.]\n",
      " [0. 0. 0. 0. 0.]]\n"
     ]
    }
   ],
   "source": [
    "\n",
    "# 2. Create a 5×5 matrix of all zeros\n",
    "zeros_matrix = np.zeros((5, 5))\n",
    "print(\"\\nQ2:\\n\", zeros_matrix)\n"
   ]
  },
  {
   "cell_type": "code",
   "execution_count": 3,
   "metadata": {},
   "outputs": [
    {
     "name": "stdout",
     "output_type": "stream",
     "text": [
      "\n",
      "Q3: [56 93 50 56 89 74 59 62 94 57]\n"
     ]
    }
   ],
   "source": [
    "\n",
    "# 3. Create an array of 10 random integers between 50 and 100\n",
    "rand_ints = np.random.randint(50, 101, size=10)\n",
    "print(\"\\nQ3:\", rand_ints)\n",
    "\n"
   ]
  },
  {
   "cell_type": "code",
   "execution_count": 4,
   "metadata": {},
   "outputs": [
    {
     "name": "stdout",
     "output_type": "stream",
     "text": [
      "\n",
      "Q4a First 5: [1 2 3 4 5]\n",
      "Q4b Last 4: [17 18 19 20]\n",
      "Q4c Index 3 to 10: [ 4  5  6  7  8  9 10 11]\n"
     ]
    }
   ],
   "source": [
    "# 4. Create a 1D array from 1 to 20 and extract parts\n",
    "arr2 = np.arange(1, 21)\n",
    "print(\"\\nQ4a First 5:\", arr2[:5])\n",
    "print(\"Q4b Last 4:\", arr2[-4:])\n",
    "print(\"Q4c Index 3 to 10:\", arr2[3:11])"
   ]
  },
  {
   "cell_type": "code",
   "execution_count": 5,
   "metadata": {},
   "outputs": [],
   "source": [
    "#Indexing & Slicing"
   ]
  },
  {
   "cell_type": "code",
   "execution_count": 6,
   "metadata": {},
   "outputs": [
    {
     "name": "stdout",
     "output_type": "stream",
     "text": [
      "\n",
      "Q5a Element 50: 50\n",
      "Q5b First two rows:\n",
      " [[10 20 30]\n",
      " [40 50 60]]\n",
      "Q5c Last column:\n",
      " [30 60 90]\n"
     ]
    }
   ],
   "source": [
    "# 5. Matrix operations\n",
    "mat = np.array([[10, 20, 30],\n",
    "                [40, 50, 60],\n",
    "                [70, 80, 90]])\n",
    "print(\"\\nQ5a Element 50:\", mat[1, 1])\n",
    "print(\"Q5b First two rows:\\n\", mat[:2, :])\n",
    "print(\"Q5c Last column:\\n\", mat[:, -1])\n"
   ]
  },
  {
   "cell_type": "code",
   "execution_count": 7,
   "metadata": {},
   "outputs": [
    {
     "name": "stdout",
     "output_type": "stream",
     "text": [
      "\n",
      "Q6 Elements > 20: [25 30 35]\n"
     ]
    }
   ],
   "source": [
    "\n",
    "# 6. Extract all elements greater than 20\n",
    "arr3 = np.array([5, 10, 15, 20, 25, 30, 35])\n",
    "print(\"\\nQ6 Elements > 20:\", arr3[arr3 > 20])\n"
   ]
  },
  {
   "cell_type": "code",
   "execution_count": 8,
   "metadata": {},
   "outputs": [],
   "source": [
    "#Operations"
   ]
  },
  {
   "cell_type": "code",
   "execution_count": 9,
   "metadata": {},
   "outputs": [
    {
     "name": "stdout",
     "output_type": "stream",
     "text": [
      "\n",
      "Q7a Addition: [ 3  7 11 15]\n",
      "Q7b Subtraction: [1 1 1 1]\n",
      "Q7c Multiplication: [ 2 12 30 56]\n",
      "Q7d Division: [2.         1.33333333 1.2        1.14285714]\n",
      "Q7e Multiply a by 5: [10 20 30 40]\n"
     ]
    }
   ],
   "source": [
    "# 7. Arithmetic\n",
    "a = np.array([2, 4, 6, 8])\n",
    "b = np.array([1, 3, 5, 7])\n",
    "print(\"\\nQ7a Addition:\", a + b)\n",
    "print(\"Q7b Subtraction:\", a - b)\n",
    "print(\"Q7c Multiplication:\", a * b)\n",
    "print(\"Q7d Division:\", a / b)\n",
    "print(\"Q7e Multiply a by 5:\", a * 5)\n",
    "\n",
    "\n"
   ]
  },
  {
   "cell_type": "code",
   "execution_count": 10,
   "metadata": {},
   "outputs": [
    {
     "name": "stdout",
     "output_type": "stream",
     "text": [
      "\n",
      "Q8a Square root: [1. 2. 3. 4. 5.]\n",
      "Q8b Logarithm: [0.         1.38629436 2.19722458 2.77258872 3.21887582]\n",
      "Q8c Sine values: [ 0.84147098 -0.7568025   0.41211849 -0.28790332 -0.13235175]\n"
     ]
    }
   ],
   "source": [
    "# 8. Math functions\n",
    "arr4 = np.array([1, 4, 9, 16, 25])\n",
    "print(\"\\nQ8a Square root:\", np.sqrt(arr4))\n",
    "print(\"Q8b Logarithm:\", np.log(arr4))\n",
    "print(\"Q8c Sine values:\", np.sin(arr4))"
   ]
  },
  {
   "cell_type": "code",
   "execution_count": null,
   "metadata": {},
   "outputs": [],
   "source": []
  }
 ],
 "metadata": {
  "kernelspec": {
   "display_name": "Python 3",
   "language": "python",
   "name": "python3"
  },
  "language_info": {
   "codemirror_mode": {
    "name": "ipython",
    "version": 3
   },
   "file_extension": ".py",
   "mimetype": "text/x-python",
   "name": "python",
   "nbconvert_exporter": "python",
   "pygments_lexer": "ipython3",
   "version": "3.13.2"
  }
 },
 "nbformat": 4,
 "nbformat_minor": 2
}
